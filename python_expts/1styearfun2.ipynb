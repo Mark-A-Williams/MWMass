{
 "cells": [
  {
   "cell_type": "code",
   "execution_count": 2,
   "metadata": {},
   "outputs": [
    {
     "name": "stdout",
     "output_type": "stream",
     "text": [
      "<type 'float'>\n",
      "<type 'str'>\n",
      "<type 'list'>\n"
     ]
    }
   ],
   "source": [
    "print type(5.0)\n",
    "print type('Beautiful plumage!')\n",
    "print type([1,2,3,4,5])"
   ]
  },
  {
   "cell_type": "code",
   "execution_count": 4,
   "metadata": {},
   "outputs": [
    {
     "data": {
      "text/plain": [
       "[2, 4, 5, 8]"
      ]
     },
     "execution_count": 4,
     "metadata": {},
     "output_type": "execute_result"
    }
   ],
   "source": [
    "lst=[4,2,8,5]\n",
    "lst.sort()\n",
    "lst"
   ]
  },
  {
   "cell_type": "code",
   "execution_count": 5,
   "metadata": {},
   "outputs": [
    {
     "name": "stdout",
     "output_type": "stream",
     "text": [
      "5\n"
     ]
    }
   ],
   "source": [
    "run script.py"
   ]
  },
  {
   "cell_type": "code",
   "execution_count": 6,
   "metadata": {},
   "outputs": [
    {
     "name": "stdout",
     "output_type": "stream",
     "text": [
      "5 1.66666666667 Fred\n"
     ]
    }
   ],
   "source": [
    "n=5; m=n/3.0; name='Fred'\n",
    "print n,m,name"
   ]
  },
  {
   "cell_type": "code",
   "execution_count": 12,
   "metadata": {},
   "outputs": [
    {
     "name": "stdout",
     "output_type": "stream",
     "text": [
      "The time is 46:35:10 precisely\n"
     ]
    }
   ],
   "source": [
    "hrs=10;mins=35;secs=46\n",
    "print 'The time is {2}:{1}:{0} precisely' .format(hrs,mins,secs)"
   ]
  },
  {
   "cell_type": "code",
   "execution_count": 18,
   "metadata": {},
   "outputs": [
    {
     "name": "stdout",
     "output_type": "stream",
     "text": [
      "I am 21 years old and 172 cm tall\n"
     ]
    }
   ],
   "source": [
    "age=21;height=172\n",
    "print 'I am {} years old and {} cm tall' .format(age,height)"
   ]
  },
  {
   "cell_type": "code",
   "execution_count": 22,
   "metadata": {},
   "outputs": [
    {
     "name": "stdout",
     "output_type": "stream",
     "text": [
      "pi is approximately 3.1415927\n"
     ]
    }
   ],
   "source": [
    "import numpy as np\n",
    "print 'pi is approximately {:6.7f}'.format(np.pi)"
   ]
  },
  {
   "cell_type": "code",
   "execution_count": 42,
   "metadata": {},
   "outputs": [
    {
     "name": "stdout",
     "output_type": "stream",
     "text": [
      "Charge on an electron is -1.602e-19 Coulombs\n"
     ]
    }
   ],
   "source": [
    "q= -1.602e-19\n",
    "print 'Charge on an electron is {:10.3e} Coulombs'.format(q)"
   ]
  },
  {
   "cell_type": "code",
   "execution_count": 45,
   "metadata": {},
   "outputs": [
    {
     "name": "stdout",
     "output_type": "stream",
     "text": [
      "Enter your first name: Mark\n",
      "Enter your surname: Williams\n",
      "Mark Williams\n"
     ]
    }
   ],
   "source": [
    "first_name=raw_input('Enter your first name: ')\n",
    "surname=raw_input('Enter your surname: ')\n",
    "full=first_name+' '+surname\n",
    "print full"
   ]
  },
  {
   "cell_type": "code",
   "execution_count": 53,
   "metadata": {},
   "outputs": [
    {
     "name": "stdout",
     "output_type": "stream",
     "text": [
      "Enter a number: 1\n",
      "Enter another number: 7\n",
      "1.0 divided by 7.0 is 0.14286\n"
     ]
    }
   ],
   "source": [
    "n1=float(input('Enter a number: '))\n",
    "n2=float(input('Enter another number: '))\n",
    "n3=n1/n2\n",
    "print '{} divided by {} is {:.5f}'.format(n1,n2,n3)"
   ]
  },
  {
   "cell_type": "code",
   "execution_count": 73,
   "metadata": {},
   "outputs": [
    {
     "name": "stdout",
     "output_type": "stream",
     "text": [
      "[1, 2, 3, 4, 5] [2, 3, 4, 5, 6]\n"
     ]
    }
   ],
   "source": [
    "xvals=[1,2,3,4,5]\n",
    "yvals=[]\n",
    "\n",
    "for i in xvals:\n",
    "    yvals.append(i+1)\n",
    "\n",
    "print xvals,yvals    "
   ]
  },
  {
   "cell_type": "code",
   "execution_count": 7,
   "metadata": {},
   "outputs": [
    {
     "name": "stdout",
     "output_type": "stream",
     "text": [
      "Enter a number: 1\n",
      "Enter another number: 1\n",
      "Enter another number: 1\n",
      "Enter another number: 1\n"
     ]
    },
    {
     "data": {
      "image/png": "[encoded data removed]",
      "text/plain": [
       "<Figure size 432x288 with 1 Axes>"
      ]
     },
     "metadata": {
      "needs_background": "light"
     },
     "output_type": "display_data"
    }
   ],
   "source": [
    "run generic_cubic.py"
   ]
  },
  {
   "cell_type": "code",
   "execution_count": 24,
   "metadata": {},
   "outputs": [
    {
     "name": "stdout",
     "output_type": "stream",
     "text": [
      "Enter a positive integer: 1000\n",
      "The sum of integers from 1 to 1000 squared is 333833500\n"
     ]
    }
   ],
   "source": [
    "run squaresum.py"
   ]
  },
  {
   "cell_type": "code",
   "execution_count": 58,
   "metadata": {},
   "outputs": [
    {
     "name": "stdout",
     "output_type": "stream",
     "text": [
      "6\n"
     ]
    }
   ],
   "source": [
    "x=3\n",
    "fct=1\n",
    "for i in range(1,x+1):\n",
    "    fct=i*fct\n",
    "print fct"
   ]
  },
  {
   "cell_type": "code",
   "execution_count": 63,
   "metadata": {},
   "outputs": [],
   "source": [
    "def fact(x):\n",
    "    if x==0:\n",
    "        return 1\n",
    "    else:\n",
    "        return x*fact(x-1)"
   ]
  },
  {
   "cell_type": "code",
   "execution_count": 99,
   "metadata": {},
   "outputs": [
    {
     "name": "stdout",
     "output_type": "stream",
     "text": [
      "Enter a positive integer: 500\n",
      "The value of e, to a 500th order approximation, is 2.71828182846\n"
     ]
    }
   ],
   "source": [
    "run eapprox.py"
   ]
  },
  {
   "cell_type": "code",
   "execution_count": null,
   "metadata": {},
   "outputs": [],
   "source": []
  }
 ],
 "metadata": {
  "kernelspec": {
   "display_name": "Python 2",
   "language": "python",
   "name": "python2"
  },
  "language_info": {
   "codemirror_mode": {
    "name": "ipython",
    "version": 2
   },
   "file_extension": ".py",
   "mimetype": "text/x-python",
   "name": "python",
   "nbconvert_exporter": "python",
   "pygments_lexer": "ipython2",
   "version": "2.7.15"
  }
 },
 "nbformat": 4,
 "nbformat_minor": 2
}
